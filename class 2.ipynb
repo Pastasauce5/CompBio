{
 "cells": [
  {
   "cell_type": "code",
   "execution_count": null,
   "metadata": {},
   "outputs": [],
   "source": []
  },
  {
   "cell_type": "code",
   "execution_count": 9,
   "metadata": {},
   "outputs": [
    {
     "name": "stdout",
     "output_type": "stream",
     "text": [
      "here is your number 2\n"
     ]
    }
   ],
   "source": [
    "#Functions\n",
    "#There are void functions (don't give an output)\n",
    "\n",
    "#This is a built in function\n",
    "print('here is your number',2) # This function is not one of those described above\n",
    "\n",
    "#here is the code many times\n",
    "print(\"I have a lovely dog named Spot\")\n",
    "print('I have a lovely dog named Fido')\n",
    "print('I have a lovely dog named Max')\n",
    "#If you do command+click you can write many lines at the same time\n"
   ]
  },
  {
   "cell_type": "code",
   "execution_count": 20,
   "metadata": {},
   "outputs": [
    {
     "name": "stdout",
     "output_type": "stream",
     "text": [
      "I have a lovely dog named Teddy\n",
      "I have a lovely dog named Dog\n"
     ]
    }
   ],
   "source": [
    "#Lets make a function for this person to easily express their love for their dogs\n",
    "def express_love(name='Dog'):#If the variable isn't provided it will give a default variable\n",
    "    print('I have a lovely dog named',name)\n",
    "    \n",
    "express_love('Teddy')\n",
    "express_love()"
   ]
  },
  {
   "cell_type": "code",
   "execution_count": 18,
   "metadata": {},
   "outputs": [
    {
     "data": {
      "text/plain": [
       "<function __main__.express_love(name)>"
      ]
     },
     "execution_count": 18,
     "metadata": {},
     "output_type": "execute_result"
    }
   ],
   "source": [
    "express_love #If you run the function without the ()'s then python will give you the format of the function\n",
    "#When you get an error in Python, it will show you what line of code threw the error"
   ]
  },
  {
   "cell_type": "code",
   "execution_count": null,
   "metadata": {},
   "outputs": [],
   "source": []
  },
  {
   "cell_type": "code",
   "execution_count": 22,
   "metadata": {},
   "outputs": [
    {
     "name": "stdout",
     "output_type": "stream",
     "text": [
      "I have a lovely dog named Teddy\n",
      "Glory to all living things!\n"
     ]
    }
   ],
   "source": [
    "#Lets make a function for this person to easily express their love for their dogs\n",
    "def express_love_new(name=None):#If the variable isn't provided it will give a default variable\n",
    "    \"\"\"Expresses love to all creation or specific dog.\"\"\"#proper etiquette when writing code for many people\n",
    "    if name is None:\n",
    "        print('Glory to all living things!')\n",
    "    else:\n",
    "        print('I have a lovely dog named',name)\n",
    "    \n",
    "express_love_new('Teddy')\n",
    "express_love_new()"
   ]
  },
  {
   "cell_type": "code",
   "execution_count": 27,
   "metadata": {},
   "outputs": [
    {
     "name": "stdout",
     "output_type": "stream",
     "text": [
      "['Spot', 'Fido', 'Red', 'Teddy']\n",
      "I have a lovely dog named ['Spot', 'Fido', 'Red', 'Teddy']\n",
      "I have a lovely dog named Spot\n",
      "I have a lovely dog named Fido\n",
      "I have a lovely dog named Red\n",
      "I have a lovely dog named Teddy\n"
     ]
    }
   ],
   "source": [
    "names=['Spot','Fido','Red','Teddy']\n",
    "print(names)\n",
    "express_love_new(names) #This does not work\n",
    "for name in names: #This is how to properly do what I was looking for\n",
    "    express_love_new(name) #'For' makes your 'running variable' (Name)take values from the list (names), one-by-one"
   ]
  },
  {
   "cell_type": "code",
   "execution_count": 33,
   "metadata": {},
   "outputs": [
    {
     "name": "stdout",
     "output_type": "stream",
     "text": [
      "14\n",
      "14\n"
     ]
    }
   ],
   "source": [
    "#Functions that give something back to you\n",
    "#Built_in\n",
    "len(names) #Takes input and returns the length of the input\n",
    "\n",
    "#Calculate x^2+5 multiple times\n",
    "print(3**2+5)# '^' is not square in python\n",
    "def calculation(x):\n",
    "    \"\"\"Calculates formula that is useful for a learning tool\"\"\"\n",
    "    return x**2+5\n",
    "print(calculation(3))"
   ]
  },
  {
   "cell_type": "markdown",
   "metadata": {},
   "source": [
    "# Markdown\n",
    "press \"m\" to create a markdown file.  This allows for a supporting text to a section of code and would be easier to take notes.\n",
    "\n",
    "* To do a bullet list,\n",
    "* insert asterisks and space\n",
    " \n",
    "To make a link, you [write something in brakets'](https://github.com/Pastasauce5/CompBio/upload/master), followed by link in ()\n",
    "## Second title\n",
    "### Third title\n",
    "\n",
    "If you want make text look like coding `print(3)` Looks fancy `5+10`\n",
    "\n",
    "Another fancy thing are math thingies, snippet of LaTeX, and go between dollar signs. For example, $5+5=10$.  \"Fancy Math\" $\\displaystyle \\sum_{i=0}^{\\inf}$"
   ]
  },
  {
   "cell_type": "code",
   "execution_count": null,
   "metadata": {},
   "outputs": [],
   "source": []
  }
 ],
 "metadata": {
  "kernelspec": {
   "display_name": "Python 3",
   "language": "python",
   "name": "python3"
  },
  "language_info": {
   "codemirror_mode": {
    "name": "ipython",
    "version": 3
   },
   "file_extension": ".py",
   "mimetype": "text/x-python",
   "name": "python",
   "nbconvert_exporter": "python",
   "pygments_lexer": "ipython3",
   "version": "3.7.4"
  }
 },
 "nbformat": 4,
 "nbformat_minor": 2
}
