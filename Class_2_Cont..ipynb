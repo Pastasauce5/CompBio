{
 "cells": [
  {
   "cell_type": "markdown",
   "metadata": {},
   "source": [
    "# Numpy and Matplotlib\n",
    "In order to use them we would need to import them every time we want to access it (once per script)"
   ]
  },
  {
   "cell_type": "code",
   "execution_count": 42,
   "metadata": {},
   "outputs": [],
   "source": [
    "#Numpy is about math, Matplotlib is about plotting\n",
    "import numpy as np\n",
    "import matplotlib.pyplot as plt"
   ]
  },
  {
   "cell_type": "code",
   "execution_count": 3,
   "metadata": {},
   "outputs": [
    {
     "data": {
      "text/plain": [
       "3.0"
      ]
     },
     "execution_count": 3,
     "metadata": {},
     "output_type": "execute_result"
    }
   ],
   "source": [
    "np.sqrt(9)"
   ]
  },
  {
   "cell_type": "markdown",
   "metadata": {},
   "source": [
    "Before we start the difference between numpy and lists"
   ]
  },
  {
   "cell_type": "code",
   "execution_count": 14,
   "metadata": {
    "scrolled": true
   },
   "outputs": [
    {
     "name": "stdout",
     "output_type": "stream",
     "text": [
      "[[1, 2, 3], [1, 2, 3]]\n",
      "[1, 2, 3]\n",
      "[1, 2, 3, 1, 2, 3]\n",
      "[1, 2, 3, 1, 2, 3, 1, 2, 3]\n"
     ]
    }
   ],
   "source": [
    "#Let's create a list and add to the list\n",
    "a=[1,2,3]\n",
    "print(a)\n",
    "#print(a+1) #Is an error\n",
    "#Can you add 2 lists together?\n",
    "print(a+a)#This simply puts all the numbers in a list together\n",
    "print(a*3)#repeats list that number of times\n",
    "#print(a*a)#cannot multiply lists with each other"
   ]
  },
  {
   "cell_type": "code",
   "execution_count": 33,
   "metadata": {},
   "outputs": [
    {
     "name": "stdout",
     "output_type": "stream",
     "text": [
      "[1 2 3]\n",
      "[1 2 3]\n",
      "[ 5 10 15]\n",
      "[2 4 6]\n"
     ]
    }
   ],
   "source": [
    "#For math we will be using numpy arrays\n",
    "b = np.array([1,2,3])\n",
    "print(b)\n",
    "\n",
    "#can we access an element of it?\n",
    "b[0]#Works the same as the list\n",
    "\n",
    "#Can we add a number to it\n",
    "print(b)#added number to every element\n",
    "\n",
    "#Can we multiply by number?\n",
    "print(b*5)#Yes and it actually multiplies every element\n",
    "\n",
    "#Can we add arrays and arrays?\n",
    "print(b+b)\n",
    "\n",
    "#What if the vectors are of different size?\n",
    "#print(b+np.array[1,2]) This does not work because there are not equal amounts of elements"
   ]
  },
  {
   "cell_type": "code",
   "execution_count": 34,
   "metadata": {},
   "outputs": [
    {
     "data": {
      "text/plain": [
       "array(['d', '1'], dtype='<U1')"
      ]
     },
     "execution_count": 34,
     "metadata": {},
     "output_type": "execute_result"
    }
   ],
   "source": [
    "#you can add strings to numpy array but we're not going to be addressing it at this time...maybe\n",
    "np.array(['d',1])"
   ]
  },
  {
   "cell_type": "code",
   "execution_count": 37,
   "metadata": {},
   "outputs": [
    {
     "name": "stdout",
     "output_type": "stream",
     "text": [
      "[1 4 9]\n",
      "[1.         1.41421356 1.73205081]\n"
     ]
    }
   ],
   "source": [
    "#Most well written functions can be written can be called on a vector like that (array), and they just apply themselves to \n",
    "#every element\n",
    "print(b**2)\n",
    "print(np.sqrt(b))"
   ]
  },
  {
   "cell_type": "code",
   "execution_count": 63,
   "metadata": {},
   "outputs": [
    {
     "data": {
      "image/png": "[encoded data removed]",
      "text/plain": [
       "<Figure size 360x216 with 1 Axes>"
      ]
     },
     "metadata": {
      "needs_background": "light"
     },
     "output_type": "display_data"
    }
   ],
   "source": [
    "#Let's try to plot something\n",
    "x=np.arange(start=0, stop=10, step=.2)#This creates numbers from 0 to 9, also we used named arguments\n",
    "plt.figure(figsize=(5,3))#It creates a figure, here is a tuple, a new data type, we'll talk about it later.\n",
    "plt.plot(x,np.sin(x)+x/5)#always outputs the last function, can aviod this by adding ';'\n",
    "plt.xlabel('Whatever')\n",
    "plt.ylabel(\"same as the other\")\n",
    "plt.plot(x,np.sqrt(x),'r:');#k is for black because b is for blue (: after color is dotted,-- is dashed,. is point,-. is dash dot,.- is line and point)"
   ]
  },
  {
   "cell_type": "markdown",
   "metadata": {},
   "source": [
    "# Birthdays excercise \n",
    "    "
   ]
  },
  {
   "cell_type": "code",
   "execution_count": 90,
   "metadata": {},
   "outputs": [
    {
     "data": {
      "text/plain": [
       "[<matplotlib.lines.Line2D at 0x19b6a50f208>]"
      ]
     },
     "execution_count": 90,
     "metadata": {},
     "output_type": "execute_result"
    },
    {
     "data": {
      "image/png": "[encoded data removed]",
      "text/plain": [
       "<Figure size 432x288 with 1 Axes>"
      ]
     },
     "metadata": {
      "needs_background": "light"
     },
     "output_type": "display_data"
    }
   ],
   "source": [
    "n=(100)\n",
    "a = np.arange(0,100,1)\n",
    "p=np.zeros(100) #Prob of not having a matching birhtday\n",
    "p[0]=1 #For 1 person, prob of not having a matching birthday is 1\n",
    "p[1]=1 #We are overriding the zero index nature of python\n",
    "not_sharing = 1    \n",
    "for i in range(0,n):\n",
    "    not_sharing *= (1 - (i/365))\n",
    "    p[i]=not_sharing\n",
    "plt.plot(a,p)\n",
    "                           \n",
    "\n",
    "    "
   ]
  },
  {
   "cell_type": "code",
   "execution_count": null,
   "metadata": {},
   "outputs": [],
   "source": []
  },
  {
   "cell_type": "code",
   "execution_count": 40,
   "metadata": {},
   "outputs": [
    {
     "name": "stdout",
     "output_type": "stream",
     "text": [
      "[1. 1. 0. 0. 0. 0. 0. 0. 0. 0. 0. 0. 0. 0. 0. 0. 0. 0. 0. 0. 0. 0. 0. 0.\n",
      " 0. 0. 0. 0. 0. 0. 0. 0. 0. 0. 0. 0. 0. 0. 0. 0. 0. 0. 0. 0. 0. 0. 0. 0.\n",
      " 0. 0. 0. 0. 0. 0. 0. 0. 0. 0. 0. 0. 0. 0. 0. 0. 0. 0. 0. 0. 0. 0. 0. 0.\n",
      " 0. 0. 0. 0. 0. 0. 0. 0. 0. 0. 0. 0. 0. 0. 0. 0. 0. 0. 0. 0. 0. 0. 0. 0.\n",
      " 0. 0. 0. 0.]\n"
     ]
    }
   ],
   "source": [
    "n = (100)\n",
    "p=np.zeros(100)\n",
    "p[0]=1\n",
    "p[1]=1\n",
    "print(p)"
   ]
  },
  {
   "cell_type": "code",
   "execution_count": null,
   "metadata": {},
   "outputs": [],
   "source": []
  },
  {
   "cell_type": "markdown",
   "metadata": {},
   "source": [
    "# Look at this\n",
    "I can keep typing in this \n"
   ]
  }
 ],
 "metadata": {
  "kernelspec": {
   "display_name": "Python 3",
   "language": "python",
   "name": "python3"
  },
  "language_info": {
   "codemirror_mode": {
    "name": "ipython",
    "version": 3
   },
   "file_extension": ".py",
   "mimetype": "text/x-python",
   "name": "python",
   "nbconvert_exporter": "python",
   "pygments_lexer": "ipython3",
   "version": "3.7.4"
  }
 },
 "nbformat": 4,
 "nbformat_minor": 2
}
